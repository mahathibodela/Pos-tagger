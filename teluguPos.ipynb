{
  "metadata": {
    "kernelspec": {
      "language": "python",
      "display_name": "Python 3",
      "name": "python3"
    },
    "language_info": {
      "name": "python",
      "version": "3.10.13",
      "mimetype": "text/x-python",
      "codemirror_mode": {
        "name": "ipython",
        "version": 3
      },
      "pygments_lexer": "ipython3",
      "nbconvert_exporter": "python",
      "file_extension": ".py"
    },
    "kaggle": {
      "accelerator": "none",
      "dataSources": [
        {
          "sourceId": 7905730,
          "sourceType": "datasetVersion",
          "datasetId": 4643750
        }
      ],
      "dockerImageVersionId": 30673,
      "isInternetEnabled": true,
      "language": "python",
      "sourceType": "notebook",
      "isGpuEnabled": false
    },
    "colab": {
      "name": "teluguPos",
      "provenance": []
    }
  },
  "nbformat_minor": 0,
  "nbformat": 4,
  "cells": [
    {
      "source": [
        "\n",
        "# IMPORTANT: RUN THIS CELL IN ORDER TO IMPORT YOUR KAGGLE DATA SOURCES\n",
        "# TO THE CORRECT LOCATION (/kaggle/input) IN YOUR NOTEBOOK,\n",
        "# THEN FEEL FREE TO DELETE THIS CELL.\n",
        "# NOTE: THIS NOTEBOOK ENVIRONMENT DIFFERS FROM KAGGLE'S PYTHON\n",
        "# ENVIRONMENT SO THERE MAY BE MISSING LIBRARIES USED BY YOUR\n",
        "# NOTEBOOK.\n",
        "\n",
        "import os\n",
        "import sys\n",
        "from tempfile import NamedTemporaryFile\n",
        "from urllib.request import urlopen\n",
        "from urllib.parse import unquote, urlparse\n",
        "from urllib.error import HTTPError\n",
        "from zipfile import ZipFile\n",
        "import tarfile\n",
        "import shutil\n",
        "\n",
        "CHUNK_SIZE = 40960\n",
        "DATA_SOURCE_MAPPING = 'tagger:https%3A%2F%2Fstorage.googleapis.com%2Fkaggle-data-sets%2F4643750%2F7905730%2Fbundle%2Farchive.zip%3FX-Goog-Algorithm%3DGOOG4-RSA-SHA256%26X-Goog-Credential%3Dgcp-kaggle-com%2540kaggle-161607.iam.gserviceaccount.com%252F20240322%252Fauto%252Fstorage%252Fgoog4_request%26X-Goog-Date%3D20240322T110439Z%26X-Goog-Expires%3D259200%26X-Goog-SignedHeaders%3Dhost%26X-Goog-Signature%3D6fefebc951529f8520e88e72bfed553e24d52f5ecc200d866b198d24cd0363a3af410640d08b376f8ffcb1faac3adf5847c0e8c2f39d1bebff20823c176f711f671205dfe567d1598c4d40b86047299c65ca30ddfd167154b7e5ed2522291a6921c3f9d506a366fce2fc65f44d01b071d8eb222e18dd5c4abb9eb8c2080bae017c5eb154dc6be851b0169e248631f3c3170ac87c35903ad2510c027d619b57cf6740c9c15093de3d451b893c679849164f1bc6c0148d71bfaeef68b9eae2c1375b89d353a4f692f3219bf5187ea15f69c17e895112b7ef599ac6aa73bc3db0b477411a8d2b133b696f6c672f8e207a7a0845860ff20e673dbc8cd7de1e7c0f56'\n",
        "\n",
        "KAGGLE_INPUT_PATH='/kaggle/input'\n",
        "KAGGLE_WORKING_PATH='/kaggle/working'\n",
        "KAGGLE_SYMLINK='kaggle'\n",
        "\n",
        "!umount /kaggle/input/ 2> /dev/null\n",
        "shutil.rmtree('/kaggle/input', ignore_errors=True)\n",
        "os.makedirs(KAGGLE_INPUT_PATH, 0o777, exist_ok=True)\n",
        "os.makedirs(KAGGLE_WORKING_PATH, 0o777, exist_ok=True)\n",
        "\n",
        "try:\n",
        "  os.symlink(KAGGLE_INPUT_PATH, os.path.join(\"..\", 'input'), target_is_directory=True)\n",
        "except FileExistsError:\n",
        "  pass\n",
        "try:\n",
        "  os.symlink(KAGGLE_WORKING_PATH, os.path.join(\"..\", 'working'), target_is_directory=True)\n",
        "except FileExistsError:\n",
        "  pass\n",
        "\n",
        "for data_source_mapping in DATA_SOURCE_MAPPING.split(','):\n",
        "    directory, download_url_encoded = data_source_mapping.split(':')\n",
        "    download_url = unquote(download_url_encoded)\n",
        "    filename = urlparse(download_url).path\n",
        "    destination_path = os.path.join(KAGGLE_INPUT_PATH, directory)\n",
        "    try:\n",
        "        with urlopen(download_url) as fileres, NamedTemporaryFile() as tfile:\n",
        "            total_length = fileres.headers['content-length']\n",
        "            print(f'Downloading {directory}, {total_length} bytes compressed')\n",
        "            dl = 0\n",
        "            data = fileres.read(CHUNK_SIZE)\n",
        "            while len(data) > 0:\n",
        "                dl += len(data)\n",
        "                tfile.write(data)\n",
        "                done = int(50 * dl / int(total_length))\n",
        "                sys.stdout.write(f\"\\r[{'=' * done}{' ' * (50-done)}] {dl} bytes downloaded\")\n",
        "                sys.stdout.flush()\n",
        "                data = fileres.read(CHUNK_SIZE)\n",
        "            if filename.endswith('.zip'):\n",
        "              with ZipFile(tfile) as zfile:\n",
        "                zfile.extractall(destination_path)\n",
        "            else:\n",
        "              with tarfile.open(tfile.name) as tarfile:\n",
        "                tarfile.extractall(destination_path)\n",
        "            print(f'\\nDownloaded and uncompressed: {directory}')\n",
        "    except HTTPError as e:\n",
        "        print(f'Failed to load (likely expired) {download_url} to path {destination_path}')\n",
        "        continue\n",
        "    except OSError as e:\n",
        "        print(f'Failed to load {download_url} to path {destination_path}')\n",
        "        continue\n",
        "\n",
        "print('Data source import complete.')\n"
      ],
      "metadata": {
        "id": "U_DL6jOs1b3f"
      },
      "cell_type": "code",
      "outputs": [],
      "execution_count": null
    },
    {
      "cell_type": "code",
      "source": [
        "# This Python 3 environment comes with many helpful analytics libraries installed\n",
        "# It is defined by the kaggle/python Docker image: https://github.com/kaggle/docker-python\n",
        "# For example, here's several helpful packages to load\n",
        "\n",
        "import numpy as np # linear algebra\n",
        "import pandas as pd # data processing, CSV file I/O (e.g. pd.read_csv)\n",
        "\n",
        "# Input data files are available in the read-only \"../input/\" directory\n",
        "# For example, running this (by clicking run or pressing Shift+Enter) will list all files under the input directory\n",
        "\n",
        "import os\n",
        "for dirname, _, filenames in os.walk('/kaggle/input'):\n",
        "    for filename in filenames:\n",
        "        print(os.path.join(dirname, filename))\n",
        "\n",
        "# You can write up to 20GB to the current directory (/kaggle/working/) that gets preserved as output when you create a version using \"Save & Run All\"\n",
        "# You can also write temporary files to /kaggle/temp/, but they won't be saved outside of the current session"
      ],
      "metadata": {
        "_uuid": "8f2839f25d086af736a60e9eeb907d3b93b6e0e5",
        "_cell_guid": "b1076dfc-b9ad-4769-8c92-a6c4dae69d19",
        "execution": {
          "iopub.status.busy": "2024-03-22T10:48:28.638278Z",
          "iopub.execute_input": "2024-03-22T10:48:28.6388Z",
          "iopub.status.idle": "2024-03-22T10:48:29.851799Z",
          "shell.execute_reply.started": "2024-03-22T10:48:28.638759Z",
          "shell.execute_reply": "2024-03-22T10:48:29.850348Z"
        },
        "trusted": true,
        "id": "AfavvXSf1b3n",
        "outputId": "a4b7e21c-bc2c-48d6-8f50-812f91993381"
      },
      "execution_count": null,
      "outputs": [
        {
          "name": "stdout",
          "text": "/kaggle/input/tagger/nlpp.csv\n",
          "output_type": "stream"
        }
      ]
    },
    {
      "cell_type": "code",
      "source": [
        "import pandas as pd\n",
        "import numpy as np"
      ],
      "metadata": {
        "execution": {
          "iopub.status.busy": "2024-03-22T10:48:29.853698Z",
          "iopub.execute_input": "2024-03-22T10:48:29.854225Z",
          "iopub.status.idle": "2024-03-22T10:48:29.859157Z",
          "shell.execute_reply.started": "2024-03-22T10:48:29.854188Z",
          "shell.execute_reply": "2024-03-22T10:48:29.858089Z"
        },
        "trusted": true,
        "id": "TdwHxh7-1b3p"
      },
      "execution_count": null,
      "outputs": []
    },
    {
      "cell_type": "code",
      "source": [
        "file_path = '/kaggle/input/tagger/nlpp.csv'\n",
        "data = pd.read_csv(file_path)\n",
        "data[:20]"
      ],
      "metadata": {
        "execution": {
          "iopub.status.busy": "2024-03-22T10:48:29.860504Z",
          "iopub.execute_input": "2024-03-22T10:48:29.861024Z",
          "iopub.status.idle": "2024-03-22T10:48:29.909189Z",
          "shell.execute_reply.started": "2024-03-22T10:48:29.86099Z",
          "shell.execute_reply": "2024-03-22T10:48:29.907922Z"
        },
        "trusted": true,
        "id": "d4ciWK_11b3q",
        "outputId": "fcf63c62-bf0e-4765-dbb2-d351ee561dfd"
      },
      "execution_count": null,
      "outputs": [
        {
          "execution_count": 3,
          "output_type": "execute_result",
          "data": {
            "text/plain": "                 word    pos\n0                   ఆ    DEM\n1              తరువాత    NST\n2         హైదరాబాదుకు    NNP\n3               బదిలీ     NN\n4             అయ్యాడు     VM\n5                </s>    END\n6                 <s>  START\n7                   ఈ    DEM\n8            గ్రామంలో     NN\n9               ప్రజల     NN\n10             ప్రధాన     JJ\n11             వృత్తి     NN\n12           వ్యవసాయం     NN\n13               </s>    END\n14                <s>  START\n15  కుత్బుల్లాపూర్ై    NNP\n16              ఆంధ్ర    NNP\n17            ప్రదేశ్     NN\n18      రాష్ట్రములోని     NN\n19         రంగారెడ్డి    NNP",
            "text/html": "<div>\n<style scoped>\n    .dataframe tbody tr th:only-of-type {\n        vertical-align: middle;\n    }\n\n    .dataframe tbody tr th {\n        vertical-align: top;\n    }\n\n    .dataframe thead th {\n        text-align: right;\n    }\n</style>\n<table border=\"1\" class=\"dataframe\">\n  <thead>\n    <tr style=\"text-align: right;\">\n      <th></th>\n      <th>word</th>\n      <th>pos</th>\n    </tr>\n  </thead>\n  <tbody>\n    <tr>\n      <th>0</th>\n      <td>ఆ</td>\n      <td>DEM</td>\n    </tr>\n    <tr>\n      <th>1</th>\n      <td>తరువాత</td>\n      <td>NST</td>\n    </tr>\n    <tr>\n      <th>2</th>\n      <td>హైదరాబాదుకు</td>\n      <td>NNP</td>\n    </tr>\n    <tr>\n      <th>3</th>\n      <td>బదిలీ</td>\n      <td>NN</td>\n    </tr>\n    <tr>\n      <th>4</th>\n      <td>అయ్యాడు</td>\n      <td>VM</td>\n    </tr>\n    <tr>\n      <th>5</th>\n      <td>&lt;/s&gt;</td>\n      <td>END</td>\n    </tr>\n    <tr>\n      <th>6</th>\n      <td>&lt;s&gt;</td>\n      <td>START</td>\n    </tr>\n    <tr>\n      <th>7</th>\n      <td>ఈ</td>\n      <td>DEM</td>\n    </tr>\n    <tr>\n      <th>8</th>\n      <td>గ్రామంలో</td>\n      <td>NN</td>\n    </tr>\n    <tr>\n      <th>9</th>\n      <td>ప్రజల</td>\n      <td>NN</td>\n    </tr>\n    <tr>\n      <th>10</th>\n      <td>ప్రధాన</td>\n      <td>JJ</td>\n    </tr>\n    <tr>\n      <th>11</th>\n      <td>వృత్తి</td>\n      <td>NN</td>\n    </tr>\n    <tr>\n      <th>12</th>\n      <td>వ్యవసాయం</td>\n      <td>NN</td>\n    </tr>\n    <tr>\n      <th>13</th>\n      <td>&lt;/s&gt;</td>\n      <td>END</td>\n    </tr>\n    <tr>\n      <th>14</th>\n      <td>&lt;s&gt;</td>\n      <td>START</td>\n    </tr>\n    <tr>\n      <th>15</th>\n      <td>కుత్బుల్లాపూర్ై</td>\n      <td>NNP</td>\n    </tr>\n    <tr>\n      <th>16</th>\n      <td>ఆంధ్ర</td>\n      <td>NNP</td>\n    </tr>\n    <tr>\n      <th>17</th>\n      <td>ప్రదేశ్</td>\n      <td>NN</td>\n    </tr>\n    <tr>\n      <th>18</th>\n      <td>రాష్ట్రములోని</td>\n      <td>NN</td>\n    </tr>\n    <tr>\n      <th>19</th>\n      <td>రంగారెడ్డి</td>\n      <td>NNP</td>\n    </tr>\n  </tbody>\n</table>\n</div>"
          },
          "metadata": {}
        }
      ]
    },
    {
      "cell_type": "code",
      "source": [
        "data.columns"
      ],
      "metadata": {
        "execution": {
          "iopub.status.busy": "2024-03-22T10:48:29.912437Z",
          "iopub.execute_input": "2024-03-22T10:48:29.912983Z",
          "iopub.status.idle": "2024-03-22T10:48:29.920723Z",
          "shell.execute_reply.started": "2024-03-22T10:48:29.912946Z",
          "shell.execute_reply": "2024-03-22T10:48:29.919405Z"
        },
        "trusted": true,
        "id": "fLscZEJW1b3r",
        "outputId": "adf65880-55bb-40d4-a232-f28e2139be18"
      },
      "execution_count": null,
      "outputs": [
        {
          "execution_count": 4,
          "output_type": "execute_result",
          "data": {
            "text/plain": "Index(['word', 'pos'], dtype='object')"
          },
          "metadata": {}
        }
      ]
    },
    {
      "cell_type": "code",
      "source": [
        "data['pos']"
      ],
      "metadata": {
        "execution": {
          "iopub.status.busy": "2024-03-22T10:48:29.922422Z",
          "iopub.execute_input": "2024-03-22T10:48:29.924019Z",
          "iopub.status.idle": "2024-03-22T10:48:29.939154Z",
          "shell.execute_reply.started": "2024-03-22T10:48:29.923972Z",
          "shell.execute_reply": "2024-03-22T10:48:29.937686Z"
        },
        "trusted": true,
        "id": "ujC7DeDK1b3r",
        "outputId": "09acd2af-8fc6-4279-e9b2-1dbdf5ea1f33"
      },
      "execution_count": null,
      "outputs": [
        {
          "execution_count": 5,
          "output_type": "execute_result",
          "data": {
            "text/plain": "0       DEM\n1       NST\n2       NNP\n3        NN\n4        VM\n       ... \n9061     NN\n9062     VM\n9063     RB\n9064     VM\n9065    END\nName: pos, Length: 9066, dtype: object"
          },
          "metadata": {}
        }
      ]
    },
    {
      "cell_type": "code",
      "source": [
        "words = list(data['word'])\n",
        "pos = list(data['pos'])"
      ],
      "metadata": {
        "execution": {
          "iopub.status.busy": "2024-03-22T10:48:29.941386Z",
          "iopub.execute_input": "2024-03-22T10:48:29.941879Z",
          "iopub.status.idle": "2024-03-22T10:48:29.953324Z",
          "shell.execute_reply.started": "2024-03-22T10:48:29.941817Z",
          "shell.execute_reply": "2024-03-22T10:48:29.951947Z"
        },
        "trusted": true,
        "id": "oUbR3Td_1b3s"
      },
      "execution_count": null,
      "outputs": []
    },
    {
      "cell_type": "code",
      "source": [
        "print(words[:10])\n",
        "print(pos[:10])"
      ],
      "metadata": {
        "execution": {
          "iopub.status.busy": "2024-03-22T10:48:29.954812Z",
          "iopub.execute_input": "2024-03-22T10:48:29.95524Z",
          "iopub.status.idle": "2024-03-22T10:48:29.966819Z",
          "shell.execute_reply.started": "2024-03-22T10:48:29.955181Z",
          "shell.execute_reply": "2024-03-22T10:48:29.965538Z"
        },
        "trusted": true,
        "id": "ii3z0-U_1b3t",
        "outputId": "aecdb02d-6b70-4084-b6a5-690adf10a423"
      },
      "execution_count": null,
      "outputs": [
        {
          "name": "stdout",
          "text": "['ఆ', 'తరువాత', 'హైదరాబాదుకు', 'బదిలీ', 'అయ్యాడు', '</s>', '<s>', 'ఈ', 'గ్రామంలో', 'ప్రజల']\n['DEM', 'NST', 'NNP', 'NN', 'VM', 'END', 'START', 'DEM', 'NN', 'NN']\n",
          "output_type": "stream"
        }
      ]
    },
    {
      "cell_type": "code",
      "source": [
        "print(len(words))\n",
        "print(len(pos))"
      ],
      "metadata": {
        "execution": {
          "iopub.status.busy": "2024-03-22T10:48:29.968494Z",
          "iopub.execute_input": "2024-03-22T10:48:29.968926Z",
          "iopub.status.idle": "2024-03-22T10:48:29.976709Z",
          "shell.execute_reply.started": "2024-03-22T10:48:29.968893Z",
          "shell.execute_reply": "2024-03-22T10:48:29.975647Z"
        },
        "trusted": true,
        "id": "3fZWrxkN1b3u",
        "outputId": "c29e108e-30f5-4a1d-8600-c4bc1e17cb61"
      },
      "execution_count": null,
      "outputs": [
        {
          "name": "stdout",
          "text": "9066\n9066\n",
          "output_type": "stream"
        }
      ]
    },
    {
      "cell_type": "code",
      "source": [
        "telugu_sen = []\n",
        "telugu_pos = []\n",
        "temp = [\"<s>\"]\n",
        "temp_pos = [\"START\"]\n",
        "\n",
        "for i in range(9066):\n",
        "    temp.append(words[i])\n",
        "    temp_pos.append(pos[i])\n",
        "    if words[i] == '</s>':\n",
        "        telugu_sen.append(temp)\n",
        "        telugu_pos.append(temp_pos)\n",
        "        temp = []\n",
        "        temp_pos = []"
      ],
      "metadata": {
        "execution": {
          "iopub.status.busy": "2024-03-22T10:48:29.978303Z",
          "iopub.execute_input": "2024-03-22T10:48:29.978597Z",
          "iopub.status.idle": "2024-03-22T10:48:29.994145Z",
          "shell.execute_reply.started": "2024-03-22T10:48:29.978571Z",
          "shell.execute_reply": "2024-03-22T10:48:29.992922Z"
        },
        "trusted": true,
        "id": "34dsf6yX1b3u"
      },
      "execution_count": null,
      "outputs": []
    },
    {
      "cell_type": "code",
      "source": [
        "print(telugu_sen[:50])\n",
        "print(telugu_pos[:2])"
      ],
      "metadata": {
        "execution": {
          "iopub.status.busy": "2024-03-22T10:48:29.998909Z",
          "iopub.execute_input": "2024-03-22T10:48:29.999251Z",
          "iopub.status.idle": "2024-03-22T10:48:30.006724Z",
          "shell.execute_reply.started": "2024-03-22T10:48:29.999222Z",
          "shell.execute_reply": "2024-03-22T10:48:30.005757Z"
        },
        "trusted": true,
        "id": "ilJifwlk1b3v",
        "outputId": "41129e95-96c7-4649-a76b-8a775d0ae6c9"
      },
      "execution_count": null,
      "outputs": [
        {
          "name": "stdout",
          "text": "[['<s>', 'ఆ', 'తరువాత', 'హైదరాబాదుకు', 'బదిలీ', 'అయ్యాడు', '</s>'], ['<s>', 'ఈ', 'గ్రామంలో', 'ప్రజల', 'ప్రధాన', 'వృత్తి', 'వ్యవసాయం', '</s>'], ['<s>', 'కుత్బుల్లాపూర్ై\\x80\\x8c', 'ఆంధ్ర', 'ప్రదేశ్', 'రాష్ట్రములోని', 'రంగారెడ్డి', 'జిల్లాకు', 'చెందిన', 'ఒక', 'మండలము', '</s>'], ['<s>', 'జ్ఞానపీఠ', 'పురస్కారం', 'గ్రహీత', 'విశ్వనాథ', 'సత్యనారాయణ', '</s>'], ['<s>', 'ఈ', 'గ్రామము', 'కోస్గి', 'నుంచి', 'మద్దూరు', 'వెళ్ళు', 'మార్గములో', 'కలదు', '</s>'], ['<s>', 'ఇక్కడ', 'కేవలం', 'ఐదవ', 'తరగతి', 'వరకు', 'మాత్రమే', 'పాఠశాల', 'సౌకర్యం', 'ఉంది', '</s>'], ['<s>', 'వికీపీడియా', 'సభ్యులు', 'రవిచంద్ర', 'మరియు', 'కాసుబాబు', 'మరియు', 'వికీపీడియా', 'అజ్ఞాత', 'సభ్యులు', 'కృతిపై', 'ఆధారితం', '</s>'], ['<s>', 'రైలు', 'రవాణా', 'వ్యవస్థ', 'పరిమాణం', 'క్రమంలో', 'దేశాల', 'జాబితా', 'ఇక్కడ', 'ఇవ్వబడింది', '</s>'], ['<s>', 'హిందూ', 'సంఘం', 'ఒక', 'కులాల', 'కూటమి', '</s>'], ['<s>', 'దయచేసి', 'ఏదో', 'ఒక', 'పేజీకి', 'లింకు', 'పెట్టండి', '</s>'], ['<s>', 'జిల్లాలో', 'ముఖ్యమైన', 'గ్రామాలలో', 'ఇది', 'ఒకటి', '</s>'], ['<s>', 'దీని', 'చుట్టు', 'ప్రక్కల', 'పది', 'గ్రామాలకు', 'నీటి', 'సరఫరా', 'జరుగుతున్నది', '</s>'], ['<s>', 'ఒక', 'వ్యాసం', 'సృష్టి', 'మరియు', 'లేదా', 'విస్తరణ', '</s>'], ['<s>', 'ఇక్కడికి', 'ఢిల్లీ', 'బెంగళూరు', 'హైదరాబాదు', 'నేరుగా', 'విమాన', 'సేవలు', 'ఉన్నాయి', '</s>'], ['<s>', 'ఉదాహరణకు', 'వికీపీడియా', ':', 'తొలగింపు', 'వ్యాసాలు', 'పేజీలో', 'జరిగే', 'చర్చ', '</s>'], ['<s>', 'నాకు', 'ఛాలా', 'ఆనందం', 'గా', 'వుంది', '</s>'], ['<s>', 'అలాగే', 'బొమ్మలు', 'ఎలా', 'అప్లోడు', 'చెయ్యాలి', '</s>'], ['<s>', 'బొమ్మలు', 'వాడే', 'విధానం', 'పేజీలను', 'ఒక', 'సారి', 'చదవండి', '</s>'], ['<s>', 'ఈ', 'ఊరు', 'విజయవాడ', 'చాలా', 'దగ్గర', '</s>'], ['<s>', 'దీనినే', 'ప్రస్తుతం', 'పాత', 'మస్కట్', 'లేదా', 'పాత', 'నగరం', 'అని', 'కూడా', 'అంటారు', '</s>'], ['<s>', 'కడప', 'జిల్లా', 'ఆంధ్రప్రదేశ్', 'జిల్లా', '</s>'], ['<s>', 'వికీపీడియాలో', 'వాడే', 'బొమ్మలకు', 'ప్రత్యేకంగా', 'ఓ', 'లైసెన్సు', 'పద్ధతి', 'ఉండొచ్చు', '</s>'], ['<s>', 'కాళిదాసు', 'ఒక', 'గొప్ప', 'సంస్కృత', 'కవి', 'మరియు', 'నాటక', 'కర్త', '</s>'], ['<s>', 'అదే', 'సమయంలో', 'ప్రసిద్ధ', 'తమిళ', 'సినీ', 'దర్శకుడు', 'కె', '.', 'బాలచందర్', 'ఆయనకు', 'అనుబంధం', 'ఏర్పడింది', '</s>'], ['<s>', 'ఎందుకంటే', 'కమ్యూనిస్టు', 'పార్టీ', 'గురించి', 'వేరే', 'వ్యాసం', 'ఇప్పటికి', 'లేదు', 'గనుక', '</s>'], ['<s>', 'ఈ', 'వ్యాసము', 'కమ్యూనిజం', 'అనే', 'రాజకీయ', 'మరియు', 'సామాజిక', 'సిద్ధాంతము', 'మాత్రమే', '</s>'], ['<s>', 'ఈ', 'చిత్రంలో', 'అక్కినేని', 'నాగేశ్వరరావు', 'మరియు', 'ఆర్', '.', 'నాగేశ్వరరావుల', 'మధ్య', 'పోరాట', 'సన్నివేశాలను', 'అత్యంత', 'సహజంగా', 'అద్భుతంగా', 'చిత్రీకరించారు', '</s>'], ['<s>', 'కన్నడ', 'కర్ణాటక', 'రాష్ట్ర', 'అధికార', 'భాష', '</s>'], ['<s>', 'ఈ', 'మూస', 'వికీపీడియాకు', 'సంబంధించిన', 'మూస', '</s>'], ['<s>', 'ఆయన', 'పేజీ', 'ఆయన', 'స్వంత', 'ఆలోచన', '</s>'], ['<s>', 'మన', 'రాష్ట్రంలో', 'ఇది', 'ఒక్కటే', 'వ్యవసాయ', 'ఇంజనీరింగ్', 'కళాశాల', '</s>'], ['<s>', 'ఇప్పుడు', 'మీరు', 'ఇలా', 'సంతకం', 'చేస్తే', 'మీ', 'కొత్త', 'సంతకం', 'కనబడుతుంది', '</s>'], ['<s>', 'కావాలని', 'నలుపు', 'రంగు', 'లింకులు', 'ఉంచితే', 'తప్ప', '</s>'], ['<s>', 'కాని', 'వీరి', 'ఆధారాలు', 'చాలా', 'తక్కువ', '</s>'], ['<s>', 'ఈ', 'గ్రామము', 'వరి', 'ప్రధాన', 'పంట', '</s>'], ['<s>', 'వరలక్ష్మీ', 'వ్రతం', 'అన్న', 'పేజీలో', 'వరలక్ష్మీ', 'వ్రతం', 'సినిమా', 'వరలక్ష్మీ', 'వ్రతం', 'పండుగ', 'ఉన్నాయి', '</s>'], ['<s>', 'ఇది', 'ఒక', 'విధమైన', 'భౌతిక', 'చర్య', '</s>'], ['<s>', 'పేజీలో', 'మీరు', 'చేసిన', 'విధంగా', 'ప్రయోగాలు', 'చెయ్యడం', 'వికీపీడియాలో', 'అవసరం', '</s>'], ['<s>', 'వీరి', 'ఒక', 'ప్రాధమిక', 'పాఠశాల', 'ఒక', 'హైస్కూలు', 'ఒక', 'ఐ.', 'టి', '.', 'ఐ', '.', 'నడుపబడుతున్నాయి', '</s>'], ['<s>', 'అమెరికాలో', 'అతి', 'ప్రాచీన', 'ప్రభుత్వ', 'సాంస్కృతిక', 'సంస్థ', '</s>'], ['<s>', 'ఇదే', 'ఆమె', 'అత్యున్నత', 'ప్రతిభ', '</s>'], ['<s>', 'కోస్తా', 'ఆంధ్ర', 'తెలంగాణ', 'మరియు', 'రాయలసీమ', '</s>'], ['<s>', 'దగ్గరలోని', 'రైలు', 'స్టేషన్', 'రాజమండ్రి', 'లేదా', 'కాకినాడ', '</s>'], ['<s>', 'తెలుగు', 'సినిమా', 'రంగములో', 'గుమ్మడి', 'గా', 'ప్రసిద్ధి', 'చెందిన', 'గుమ్మడి', 'వెంకటేశ్వరరావు', '</s>'], ['<s>', 'కోట', 'తూర్పు', 'గోదావరి', 'జిల్లా', 'రామవరం', 'మండలానికి', 'చెందిన', 'గ్రామము', '</s>'], ['<s>', 'ఈ', 'గ్రామంలో', 'ప్రాథమిక', 'పాఠశాలలు', 'మూడు', 'కలవు', '</s>'], ['<s>', 'గ్రామంలో', 'సరైన', 'మంచినీటి', 'వసతి', 'లేదు', '</s>'], ['<s>', 'ఈ', 'అడవిలో', 'చాలా', 'రకాల', 'అటవీ', 'జంతువులు', 'మరియు', 'పక్షులు', 'ఉన్నాయి', '</s>'], ['<s>', 'కుల్కచర్ల', 'ఆంధ్ర', 'ప్రదేశ్', 'రాష్ట్రములోని', 'రంగారెడ్డి', 'జిల్లాకు', 'చెందిన', 'ఒక', 'మండలము', '</s>'], ['<s>', 'పంచాయత్', 'రాజ్', 'మంత్రిత్వ', 'శాఖ', 'వెబ్ై\\x80\\x8cసైటులో', 'కడప', 'జిల్లా', 'తాలూకాల', 'వివరాలు', '</s>']]\n[['START', 'DEM', 'NST', 'NNP', 'NN', 'VM', 'END'], ['START', 'DEM', 'NN', 'NN', 'JJ', 'NN', 'NN', 'END']]\n",
          "output_type": "stream"
        }
      ]
    },
    {
      "cell_type": "code",
      "source": [
        "tags = list(data['pos'].unique())\n",
        "print(tags)\n",
        "print(len(tags))"
      ],
      "metadata": {
        "execution": {
          "iopub.status.busy": "2024-03-22T10:48:30.008433Z",
          "iopub.execute_input": "2024-03-22T10:48:30.008921Z",
          "iopub.status.idle": "2024-03-22T10:48:30.024089Z",
          "shell.execute_reply.started": "2024-03-22T10:48:30.008888Z",
          "shell.execute_reply": "2024-03-22T10:48:30.022775Z"
        },
        "trusted": true,
        "id": "mU0hN_r21b3v",
        "outputId": "69da7636-ce52-4715-be69-043dc85c276f"
      },
      "execution_count": null,
      "outputs": [
        {
          "name": "stdout",
          "text": "['DEM', 'NST', 'NNP', 'NN', 'VM', 'END', 'START', 'JJ', 'PSP', 'QO', 'CC', 'WQ', 'PRP', 'QC', 'RB', 'SYM', 'INTF', 'UT', 'RP', 'QF', 'RDP', 'CL']\n22\n",
          "output_type": "stream"
        }
      ]
    },
    {
      "cell_type": "code",
      "source": [
        "word = list(data['word'].unique())\n",
        "print(len(word))"
      ],
      "metadata": {
        "execution": {
          "iopub.status.busy": "2024-03-22T10:48:30.025951Z",
          "iopub.execute_input": "2024-03-22T10:48:30.026309Z",
          "iopub.status.idle": "2024-03-22T10:48:30.038007Z",
          "shell.execute_reply.started": "2024-03-22T10:48:30.026262Z",
          "shell.execute_reply": "2024-03-22T10:48:30.03667Z"
        },
        "trusted": true,
        "id": "HWtpxOnj1b3w",
        "outputId": "4286178e-7893-4c85-ab29-fd641805ce81"
      },
      "execution_count": null,
      "outputs": [
        {
          "name": "stdout",
          "text": "2269\n",
          "output_type": "stream"
        }
      ]
    },
    {
      "cell_type": "code",
      "source": [
        "pos_to_no = {}\n",
        "no_to_pos = {}\n",
        "\n",
        "for i, tag in enumerate(tags):\n",
        "    no_to_pos[i] = tag\n",
        "    pos_to_no[tag] = i\n",
        "\n",
        "print(no_to_pos)\n",
        "print(pos_to_no)"
      ],
      "metadata": {
        "execution": {
          "iopub.status.busy": "2024-03-22T10:48:30.03973Z",
          "iopub.execute_input": "2024-03-22T10:48:30.040102Z",
          "iopub.status.idle": "2024-03-22T10:48:30.051049Z",
          "shell.execute_reply.started": "2024-03-22T10:48:30.040072Z",
          "shell.execute_reply": "2024-03-22T10:48:30.049916Z"
        },
        "trusted": true,
        "id": "m38aQU1y1b3w",
        "outputId": "bd34d8ad-b7a8-4457-9285-6c37a3d1a2c8"
      },
      "execution_count": null,
      "outputs": [
        {
          "name": "stdout",
          "text": "{0: 'DEM', 1: 'NST', 2: 'NNP', 3: 'NN', 4: 'VM', 5: 'END', 6: 'START', 7: 'JJ', 8: 'PSP', 9: 'QO', 10: 'CC', 11: 'WQ', 12: 'PRP', 13: 'QC', 14: 'RB', 15: 'SYM', 16: 'INTF', 17: 'UT', 18: 'RP', 19: 'QF', 20: 'RDP', 21: 'CL'}\n{'DEM': 0, 'NST': 1, 'NNP': 2, 'NN': 3, 'VM': 4, 'END': 5, 'START': 6, 'JJ': 7, 'PSP': 8, 'QO': 9, 'CC': 10, 'WQ': 11, 'PRP': 12, 'QC': 13, 'RB': 14, 'SYM': 15, 'INTF': 16, 'UT': 17, 'RP': 18, 'QF': 19, 'RDP': 20, 'CL': 21}\n",
          "output_type": "stream"
        }
      ]
    },
    {
      "cell_type": "code",
      "source": [
        "# now -- row, next -- col"
      ],
      "metadata": {
        "execution": {
          "iopub.status.busy": "2024-03-22T10:48:30.05267Z",
          "iopub.execute_input": "2024-03-22T10:48:30.053134Z",
          "iopub.status.idle": "2024-03-22T10:48:30.06377Z",
          "shell.execute_reply.started": "2024-03-22T10:48:30.053102Z",
          "shell.execute_reply": "2024-03-22T10:48:30.062406Z"
        },
        "trusted": true,
        "id": "cJMEKBAK1b3x"
      },
      "execution_count": null,
      "outputs": []
    },
    {
      "cell_type": "code",
      "source": [
        "transition_matrix = {}\n",
        "emission_matrix = {}\n",
        "pos_sum = {}\n",
        "for i in range(len(telugu_sen)):\n",
        "    for j in range(len(telugu_sen[i]) - 1):\n",
        "\n",
        "        word, pos = telugu_sen[i][j], telugu_pos[i][j]\n",
        "        nextWord, nextPos = telugu_sen[i][j + 1], telugu_pos[i][j + 1]\n",
        "\n",
        "        #transition matrix\n",
        "        if (pos, nextPos) in transition_matrix:\n",
        "            transition_matrix[(pos, nextPos)] +=  transition_matrix[(pos, nextPos)] + 1\n",
        "        else:\n",
        "             transition_matrix[(pos, nextPos)] = 1\n",
        "\n",
        "        # denominatinor\n",
        "        if pos not in pos_sum:\n",
        "            pos_sum[pos] = 1\n",
        "        else:\n",
        "            pos_sum[pos] += pos_sum[pos] + 1\n",
        "\n",
        "        #emision matrix\n",
        "        if (pos, word) in emission_matrix:\n",
        "            emission_matrix[(pos, word)] += emission_matrix[(pos, word)] + 1\n",
        "        else:\n",
        "            emission_matrix[(pos, word)] = 1\n",
        "\n",
        ""
      ],
      "metadata": {
        "execution": {
          "iopub.status.busy": "2024-03-22T10:48:30.065363Z",
          "iopub.execute_input": "2024-03-22T10:48:30.066083Z",
          "iopub.status.idle": "2024-03-22T10:48:30.108559Z",
          "shell.execute_reply.started": "2024-03-22T10:48:30.066048Z",
          "shell.execute_reply": "2024-03-22T10:48:30.107222Z"
        },
        "trusted": true,
        "id": "gdvlOU5U1b3x"
      },
      "execution_count": null,
      "outputs": []
    },
    {
      "cell_type": "code",
      "source": [
        "print(transition_matrix)"
      ],
      "metadata": {
        "execution": {
          "iopub.status.busy": "2024-03-22T10:48:30.110369Z",
          "iopub.execute_input": "2024-03-22T10:48:30.110788Z",
          "iopub.status.idle": "2024-03-22T10:48:30.123689Z",
          "shell.execute_reply.started": "2024-03-22T10:48:30.110753Z",
          "shell.execute_reply": "2024-03-22T10:48:30.122297Z"
        },
        "trusted": true,
        "id": "qv9yN9Gi1b3x",
        "outputId": "021f6e27-bc43-498e-aa5f-bdbe50001e74"
      },
      "execution_count": null,
      "outputs": [
        {
          "name": "stdout",
          "text": "{('START', 'DEM'): 5444517870735015415413993718908291383295, ('DEM', 'NST'): 8191, ('NST', 'NNP'): 16383, ('NNP', 'NN'): 21661481985318866090456360813617841433097164651373566993519371723551728967231450179999800047688590453885868835635965404913860607, ('NN', 'VM'): 94758184344525691842589080106353915726128296943157752144717531617800961467674370503593652882607817257720198406807316479868870852301929589321550737002025216015896910157522577243058183937475491017166931103132108688408987234729983, ('VM', 'END'): 483067190377157293086918986366498418037365916213304374832154406431439892786195053067024220822740322245307952003937772147170634832630373456967863584183385093587122601852927, ('DEM', 'NN'): 6427752177035961102167848369364650410088811975131171341205503, ('NN', 'NN'): 1045306387854636870253908275374199688241601463566149140121811569475858326273063486923488404947071351458226156437261030596473650602742134325330586401164671803947983875433477677836620888459189622000953024159077961130480630942134450153272855859676449318071158306352837155327476536433730434054020336564945598671256131238271529896039568207651518382886564497163137899737739065201341904015918473412648139953618498246536524858487671093296608791461101567, ('NN', 'JJ'): 1329227995784915872903807060280344575, ('JJ', 'NN'): 15914343565113172548972231940698266883214596825515126958094847260581103904401068017057791, ('NN', 'END'): 286687326998758938951352611912760867599570623646035140467198604923365359511060601008752319138765710819327, ('START', 'NNP'): 766247770432944429179173513575154591809369561091801087, ('NNP', 'NNP'): 10633823966279326983230456482242756607, ('NN', 'NNP'): 14821387422376473014217086081112052205218558037201992197050570753012880593911807, ('VM', 'JJ'): 576460752303423487, ('START', 'NN'): 254629497041810760783555711051172270131433549208242031329517556169297662470417088272924671, ('VM', 'PSP'): 32767, ('PSP', 'NNP'): 31, ('START', 'NST'): 1125899906842623, ('NST', 'NN'): 147573952589676412927, ('NN', 'QO'): 131071, ('QO', 'NN'): 262143, ('NN', 'PSP'): 1048575, ('PSP', 'PSP'): 3, ('PSP', 'NN'): 32767, ('NNP', 'CC'): 16383, ('CC', 'NN'): 288230376151711743, ('NN', 'CC'): 36893488147419103231, ('CC', 'NNP'): 262143, ('NN', 'NST'): 36028797018963967, ('NST', 'VM'): 137438953471, ('START', 'VM'): 4194303, ('VM', 'WQ'): 63, ('WQ', 'JJ'): 63, ('NN', 'PRP'): 19342813113834066795298815, ('PRP', 'QC'): 63, ('QC', 'END'): 255, ('START', 'PRP'): 3064991081731777716716694054300618367237478244367204351, ('PRP', 'NN'): 13164036458569648337239753460458804039861886925068638906788872191, ('NN', 'QC'): 268435455, ('QC', 'NN'): 137438953471, ('START', 'JJ'): 536870911, ('CC', 'CC'): 1, ('NNP', 'RB'): 3, ('RB', 'NN'): 68719476735, ('NNP', 'SYM'): 63, ('SYM', 'NN'): 67108863, ('VM', 'NN'): 411376139330301510538742295639337626245683966408394965837152255, ('NN', 'RB'): 1180591620717411303423, ('RB', 'VM'): 18446744073709551615, ('START', 'RB'): 65535, ('NN', 'WQ'): 4294967295, ('WQ', 'NN'): 16777215, ('NNP', 'INTF'): 15, ('INTF', 'NST'): 1, ('NST', 'END'): 1, ('CC', 'JJ'): 7, ('NN', 'UT'): 268435455, ('UT', 'PSP'): 7, ('PSP', 'VM'): 31, ('VM', 'PRP'): 549755813887, ('RB', 'JJ'): 127, ('NNP', 'JJ'): 1048575, ('JJ', 'JJ'): 65535, ('JJ', 'NNP'): 1023, ('NN', 'SYM'): 4194303, ('SYM', 'NNP'): 511, ('NNP', 'PRP'): 16383, ('START', 'WQ'): 32767, ('PSP', 'JJ'): 127, ('VM', 'CC'): 63, ('CC', 'END'): 1, ('UT', 'NN'): 1048575, ('PSP', 'END'): 2047, ('VM', 'NNP'): 4294967295, ('NN', 'INTF'): 4294967295, ('INTF', 'RB'): 3, ('RB', 'RB'): 3, ('NST', 'PRP'): 2047, ('PRP', 'RB'): 8191, ('PRP', 'JJ'): 68719476735, ('VM', 'VM'): 2305843009213693951, ('VM', 'RP'): 2047, ('RP', 'END'): 1023, ('START', 'RP'): 134217727, ('RP', 'PRP'): 1023, ('INTF', 'JJ'): 32767, ('JJ', 'END'): 32767, ('PRP', 'VM'): 1099511627775, ('VM', 'RB'): 127, ('JJ', 'QC'): 1, ('SYM', 'SYM'): 3, ('SYM', 'VM'): 1, ('PRP', 'PRP'): 8388607, ('NNP', 'END'): 262143, ('NN', 'QF'): 67108863, ('QF', 'NN'): 35184372088831, ('PRP', 'WQ'): 255, ('PRP', 'NNP'): 131071, ('START', 'CC'): 8388607, ('WQ', 'VM'): 8388607, ('INTF', 'VM'): 511, ('VM', 'RDP'): 1, ('RDP', 'END'): 1, ('VM', 'SYM'): 15, ('NNP', 'VM'): 262143, ('START', 'QF'): 4095, ('VM', 'DEM'): 1023, ('NST', 'JJ'): 255, ('INTF', 'NN'): 1048575, ('NN', 'DEM'): 281474976710655, ('CC', 'PRP'): 8191, ('NNP', 'NST'): 524287, ('WQ', 'PSP'): 3, ('PRP', 'RP'): 15, ('WQ', 'SYM'): 2047, ('START', 'UT'): 31, ('UT', 'NNP'): 3, ('UT', 'VM'): 131071, ('JJ', 'RB'): 15, ('NN', 'RP'): 1023, ('RP', 'NN'): 65535, ('SYM', 'WQ'): 7, ('QC', 'QC'): 63, ('VM', 'NST'): 524287, ('CC', 'VM'): 31, ('SYM', 'PRP'): 3, ('VM', 'UT'): 127, ('UT', 'JJ'): 7, ('NNP', 'UT'): 2047, ('START', 'QO'): 1, ('QC', 'CL'): 1, ('CL', 'VM'): 1, ('UT', 'WQ'): 7, ('SYM', 'QC'): 3, ('UT', 'QC'): 1, ('CC', 'DEM'): 127, ('PRP', 'END'): 4095, ('NST', 'RB'): 127, ('RP', 'DEM'): 7, ('NST', 'DEM'): 63, ('PRP', 'CC'): 31, ('RP', 'CC'): 1, ('CC', 'QF'): 3, ('VM', 'QC'): 31, ('NST', 'WQ'): 31, ('RP', 'QF'): 1, ('START', 'QC'): 31, ('WQ', 'PRP'): 15, ('QO', 'RB'): 3, ('DEM', 'QC'): 3, ('PRP', 'INTF'): 15, ('QF', 'QC'): 1, ('QC', 'VM'): 3, ('WQ', 'RB'): 1, ('VM', 'QF'): 31, ('PRP', 'DEM'): 31, ('RP', 'JJ'): 15, ('RB', 'PRP'): 127, ('WQ', 'END'): 7, ('RP', 'VM'): 15, ('VM', 'INTF'): 3, ('QO', 'NNP'): 1, ('PSP', 'PRP'): 1, ('VM', 'QO'): 1, ('PRP', 'QF'): 15, ('PRP', 'UT'): 3, ('PRP', 'SYM'): 1, ('RB', 'WQ'): 1, ('QF', 'JJ'): 3, ('QF', 'VM'): 3, ('CC', 'WQ'): 3, ('QC', 'JJ'): 31, ('RP', 'QO'): 1, ('NST', 'NST'): 1, ('RP', 'RP'): 1, ('NST', 'QF'): 15, ('RB', 'PSP'): 15, ('DEM', 'JJ'): 3, ('RB', 'NNP'): 7, ('NST', 'INTF'): 3, ('NNP', 'DEM'): 7, ('WQ', 'QF'): 1, ('QF', 'DEM'): 1, ('JJ', 'CL'): 1, ('CL', 'NN'): 7, ('NNP', 'QC'): 1, ('PSP', 'DEM'): 1, ('NNP', 'QO'): 1, ('QO', 'CC'): 1, ('CC', 'NST'): 15, ('SYM', 'DEM'): 1, ('UT', 'END'): 1, ('RP', 'NNP'): 1, ('CC', 'RB'): 1, ('RB', 'DEM'): 3, ('CC', 'INTF'): 3, ('JJ', 'PRP'): 1, ('WQ', 'WQ'): 7, ('RP', 'WQ'): 1, ('UT', 'PRP'): 1, ('START', 'INTF'): 3, ('RB', 'NST'): 1, ('NST', 'QC'): 1, ('JJ', 'CC'): 1, ('START', 'PSP'): 1, ('DEM', 'RB'): 1, ('UT', 'INTF'): 1, ('INTF', 'WQ'): 1, ('QF', 'END'): 3, ('RB', 'QO'): 1, ('WQ', 'CL'): 1, ('QF', 'CL'): 1, ('INTF', 'QF'): 1, ('WQ', 'UT'): 1, ('UT', 'DEM'): 1, ('QF', 'PRP'): 3, ('UT', 'NST'): 1}\n",
          "output_type": "stream"
        }
      ]
    },
    {
      "cell_type": "code",
      "source": [
        "# handling UNKOWN token\n",
        "# for key, values in emission_matrix.items():\n",
        ""
      ],
      "metadata": {
        "execution": {
          "iopub.status.busy": "2024-03-22T10:48:30.125341Z",
          "iopub.execute_input": "2024-03-22T10:48:30.125705Z",
          "iopub.status.idle": "2024-03-22T10:48:30.13476Z",
          "shell.execute_reply.started": "2024-03-22T10:48:30.125668Z",
          "shell.execute_reply": "2024-03-22T10:48:30.133525Z"
        },
        "trusted": true,
        "id": "RE4TA1BO1b3x"
      },
      "execution_count": null,
      "outputs": []
    },
    {
      "cell_type": "code",
      "source": [
        "# converting counts to probabilities\n",
        "for key, values in transition_matrix.items():\n",
        "    prePos, nextPos = key\n",
        "    transition_matrix[(prePos, nextPos)] = transition_matrix[(prePos, nextPos)] / pos_sum[prePos]\n",
        "\n",
        "for key, values in emission_matrix.items():\n",
        "    pos, word = key\n",
        "    emission_matrix[(pos, word)] = emission_matrix[(pos, word)] / pos_sum[pos]"
      ],
      "metadata": {
        "execution": {
          "iopub.status.busy": "2024-03-22T10:48:30.1364Z",
          "iopub.execute_input": "2024-03-22T10:48:30.136789Z",
          "iopub.status.idle": "2024-03-22T10:48:30.151564Z",
          "shell.execute_reply.started": "2024-03-22T10:48:30.136746Z",
          "shell.execute_reply": "2024-03-22T10:48:30.150198Z"
        },
        "trusted": true,
        "id": "-DfxZVQT1b3y"
      },
      "execution_count": null,
      "outputs": []
    },
    {
      "cell_type": "code",
      "source": [
        "print(transition_matrix)"
      ],
      "metadata": {
        "execution": {
          "iopub.status.busy": "2024-03-22T10:48:30.153173Z",
          "iopub.execute_input": "2024-03-22T10:48:30.153553Z",
          "iopub.status.idle": "2024-03-22T10:48:30.165272Z",
          "shell.execute_reply.started": "2024-03-22T10:48:30.15352Z",
          "shell.execute_reply": "2024-03-22T10:48:30.164237Z"
        },
        "trusted": true,
        "id": "K2d-2qsQ1b3y",
        "outputId": "67c236ed-3587-417f-d110-5d766abcfcaa"
      },
      "execution_count": null,
      "outputs": [
        {
          "name": "stdout",
          "text": "{('START', 'DEM'): 4.064936359238081e-261, ('DEM', 'NST'): 4.861137212844907e-63, ('NST', 'NNP'): 7.0060646792704706e-46, ('NNP', 'NN'): 3.454467422037778e-77, ('NN', 'VM'): 0.0, ('VM', 'END'): 1.221974545399842e-150, ('DEM', 'NN'): 3.814697265625e-06, ('NN', 'NN'): 0.0, ('NN', 'JJ'): 0.0, ('JJ', 'NN'): 1.7763568394002505e-15, ('NN', 'END'): 0.0, ('START', 'NNP'): 5.720889335234188e-247, ('NNP', 'NNP'): 1.695830344760954e-167, ('NN', 'NNP'): 0.0, ('VM', 'JJ'): 1.4582244039112795e-303, ('START', 'NN'): 1.90109156629516e-211, ('VM', 'PSP'): 8.288793e-317, ('PSP', 'NNP'): 2.2026824808563262e-13, ('START', 'NST'): 8.406091369059067e-286, ('NST', 'NN'): 6.310887241768095e-30, ('NN', 'QO'): 0.0, ('QO', 'NN'): 0.0624997764825288, ('NN', 'PSP'): 0.0, ('PSP', 'PSP'): 2.1316282072803157e-14, ('PSP', 'NN'): 2.3282353822651368e-10, ('NNP', 'CC'): 2.6126808781413032e-200, ('CC', 'NN'): 1.734723475976807e-18, ('NN', 'CC'): 0.0, ('CC', 'NNP'): 1.5777157919109474e-30, ('NN', 'NST'): 0.0, ('NST', 'VM'): 5.877471754068673e-39, ('START', 'VM'): 3.131512315903125e-294, ('VM', 'WQ'): 1.59366e-319, ('WQ', 'JJ'): 5.2112378590840744e-23, ('NN', 'PRP'): 0.0, ('PRP', 'QC'): 3.1228581201344903e-117, ('QC', 'END'): 4.423544863740858e-16, ('START', 'PRP'): 2.2883557340936752e-246, ('PRP', 'NN'): 6.525304467998525e-55, ('NN', 'QC'): 0.0, ('QC', 'NN'): 2.3841857909982778e-07, ('START', 'JJ'): 4.0083367125518366e-292, ('CC', 'CC'): 6.018531076210112e-36, ('NNP', 'RB'): 4.7842535765268324e-204, ('RB', 'NN'): 2.0194839173364029e-28, ('NNP', 'SYM'): 1.0046932510706348e-202, ('SYM', 'NN'): 9.536743021954088e-07, ('VM', 'NN'): 1.0406237079649487e-258, ('NN', 'RB'): 0.0, ('RB', 'VM'): 5.421010862427522e-20, ('START', 'RB'): 4.892914499088676e-296, ('NN', 'WQ'): 0.0, ('WQ', 'NN'): 1.3877786980633844e-17, ('NNP', 'INTF'): 2.3921267882634162e-203, ('INTF', 'NST'): 1.7763568394002536e-15, ('NST', 'END'): 4.276423536147513e-50, ('CC', 'JJ'): 4.2129717533470784e-35, ('NN', 'UT'): 0.0, ('UT', 'PSP'): 3.885780586188048e-16, ('PSP', 'VM'): 2.2026824808563262e-13, ('VM', 'PRP'): 1.39067116156447e-309, ('RB', 'JJ'): 3.732194563860763e-37, ('NNP', 'JJ'): 1.6722162313355411e-198, ('JJ', 'JJ'): 7.31500768434413e-99, ('JJ', 'NNP'): 1.1418711926579759e-100, ('NN', 'SYM'): 0.0, ('SYM', 'NNP'): 7.261746759468327e-12, ('NNP', 'PRP'): 2.6126808781413032e-200, ('START', 'WQ'): 2.4464199189995978e-296, ('PSP', 'JJ'): 9.023892744153337e-13, ('VM', 'CC'): 1.59366e-319, ('CC', 'END'): 6.018531076210112e-36, ('UT', 'NN'): 5.8207605402316176e-11, ('PSP', 'END'): 1.4544809801009354e-11, ('VM', 'NNP'): 1.0864618447213e-311, ('NN', 'INTF'): 0.0, ('INTF', 'RB'): 5.329070518200761e-15, ('RB', 'RB'): 8.816207631167156e-39, ('NST', 'PRP'): 8.753838978493959e-47, ('PRP', 'RB'): 4.060211247939938e-115, ('PRP', 'JJ'): 3.4063678719569514e-108, ('VM', 'VM'): 5.832897615645118e-303, ('VM', 'RP'): 5.178124e-318, ('RP', 'END'): 1.1357581541915353e-13, ('START', 'RP'): 1.0020841725383774e-292, ('RP', 'PRP'): 1.1357581541915353e-13, ('INTF', 'JJ'): 5.820588455662811e-11, ('JJ', 'END'): 3.65744803224085e-99, ('PRP', 'VM'): 5.450188595205476e-107, ('VM', 'RB'): 3.2126e-319, ('JJ', 'QC'): 1.1161986242990967e-103, ('SYM', 'SYM'): 4.263256414560662e-14, ('SYM', 'VM'): 1.4210854715202206e-14, ('PRP', 'PRP'): 4.1581634105661946e-112, ('NNP', 'END'): 4.1805286177049114e-199, ('NN', 'QF'): 0.0, ('QF', 'NN'): 0.0004882812499999861, ('PRP', 'WQ'): 1.2640140010068175e-116, ('PRP', 'NNP'): 6.497081534351552e-114, ('START', 'CC'): 6.263025378417145e-294, ('WQ', 'VM'): 6.938893076726616e-18, ('INTF', 'VM'): 9.077183449335296e-13, ('VM', 'RDP'): 2.53e-321, ('RDP', 'END'): 1.0, ('VM', 'SYM'): 3.7944e-320, ('NNP', 'VM'): 4.1805286177049114e-199, ('START', 'QF'): 3.057371614216545e-297, ('VM', 'DEM'): 2.587797e-318, ('NST', 'JJ'): 1.0904880017176158e-47, ('INTF', 'NN'): 1.862643372874121e-09, ('NN', 'DEM'): 0.0, ('CC', 'PRP'): 4.929778804523703e-32, ('NNP', 'NST'): 8.361073182921745e-199, ('WQ', 'PSP'): 2.481541837659083e-24, ('PRP', 'RP'): 7.435376476510691e-118, ('WQ', 'SYM'): 1.6932387138960477e-21, ('START', 'UT'): 2.3144937738879828e-299, ('UT', 'NNP'): 1.6653345369377348e-16, ('UT', 'VM'): 7.275902103032195e-12, ('JJ', 'RB'): 1.674297936448645e-102, ('NN', 'RP'): 0.0, ('RP', 'NN'): 7.275846591880964e-12, ('SYM', 'WQ'): 9.947598300641544e-14, ('QC', 'QC'): 1.0928757898653885e-16, ('VM', 'NST'): 1.32624484e-315, ('CC', 'VM'): 1.8657446336251347e-34, ('SYM', 'PRP'): 4.263256414560662e-14, ('VM', 'UT'): 3.2126e-319, ('UT', 'JJ'): 3.885780586188048e-16, ('NNP', 'UT'): 3.2644556903834753e-201, ('START', 'QO'): 7.466108948025751e-301, ('QC', 'CL'): 1.734723475976807e-18, ('CL', 'VM'): 0.06666666666666667, ('UT', 'WQ'): 3.885780586188048e-16, ('SYM', 'QC'): 4.263256414560662e-14, ('UT', 'QC'): 5.551115123125783e-17, ('CC', 'DEM'): 7.643534466786842e-34, ('PRP', 'END'): 2.0298577780874187e-115, ('NST', 'RB'): 5.4310578909073416e-48, ('RP', 'DEM'): 7.771561172376097e-16, ('NST', 'DEM'): 2.6941468277729332e-48, ('PRP', 'CC'): 1.5366444718122095e-117, ('RP', 'CC'): 1.1102230246251568e-16, ('CC', 'QF'): 1.8055593228630336e-35, ('VM', 'QC'): 7.842e-320, ('NST', 'WQ'): 1.325691296205729e-48, ('RP', 'QF'): 1.1102230246251568e-16, ('START', 'QC'): 2.3144937738879828e-299, ('WQ', 'PRP'): 1.2407709188295415e-23, ('QO', 'RB'): 7.152559078349847e-07, ('DEM', 'QC'): 1.7804189523299623e-66, ('PRP', 'INTF'): 7.435376476510691e-118, ('QF', 'QC'): 1.3877787807814457e-17, ('QC', 'VM'): 5.204170427930421e-18, ('WQ', 'RB'): 8.271806125530277e-25, ('VM', 'QF'): 7.842e-320, ('PRP', 'DEM'): 1.5366444718122095e-117, ('RP', 'JJ'): 1.665334536937735e-15, ('RB', 'PRP'): 3.732194563860763e-37, ('WQ', 'END'): 5.790264287871194e-24, ('RP', 'VM'): 1.665334536937735e-15, ('VM', 'INTF'): 7.59e-321, ('QO', 'NNP'): 2.384186359449949e-07, ('PSP', 'PRP'): 7.105427357601052e-15, ('VM', 'QO'): 2.53e-321, ('PRP', 'QF'): 7.435376476510691e-118, ('PRP', 'UT'): 1.4870752953021382e-118, ('PRP', 'SYM'): 4.9569176510071274e-119, ('RB', 'WQ'): 2.938735877055719e-39, ('QF', 'JJ'): 4.163336342344337e-17, ('QF', 'VM'): 4.163336342344337e-17, ('CC', 'WQ'): 1.8055593228630336e-35, ('QC', 'JJ'): 5.377642775528102e-17, ('RP', 'QO'): 1.1102230246251568e-16, ('NST', 'NST'): 4.276423536147513e-50, ('RP', 'RP'): 1.1102230246251568e-16, ('NST', 'QF'): 6.4146353042212696e-49, ('RB', 'PSP'): 4.408103815583578e-38, ('DEM', 'JJ'): 1.7804189523299623e-66, ('RB', 'NNP'): 2.0571151139390031e-38, ('NST', 'INTF'): 1.282927060844254e-49, ('NNP', 'DEM'): 1.1163258345229276e-203, ('WQ', 'QF'): 8.271806125530277e-25, ('QF', 'DEM'): 1.3877787807814457e-17, ('JJ', 'CL'): 1.1161986242990967e-103, ('CL', 'NN'): 0.4666666666666667, ('NNP', 'QC'): 1.5947511921756108e-204, ('PSP', 'DEM'): 7.105427357601052e-15, ('NNP', 'QO'): 1.5947511921756108e-204, ('QO', 'CC'): 2.384186359449949e-07, ('CC', 'NST'): 9.027796614315168e-35, ('SYM', 'DEM'): 1.4210854715202206e-14, ('UT', 'END'): 5.551115123125783e-17, ('RP', 'NNP'): 1.1102230246251568e-16, ('CC', 'RB'): 6.018531076210112e-36, ('RB', 'DEM'): 8.816207631167156e-39, ('CC', 'INTF'): 1.8055593228630336e-35, ('JJ', 'PRP'): 1.1161986242990967e-103, ('WQ', 'WQ'): 5.790264287871194e-24, ('RP', 'WQ'): 1.1102230246251568e-16, ('UT', 'PRP'): 5.551115123125783e-17, ('START', 'INTF'): 2.2398326844077253e-300, ('RB', 'NST'): 2.938735877055719e-39, ('NST', 'QC'): 4.276423536147513e-50, ('JJ', 'CC'): 1.1161986242990967e-103, ('START', 'PSP'): 7.466108948025751e-301, ('DEM', 'RB'): 5.934729841099874e-67, ('UT', 'INTF'): 5.551115123125783e-17, ('INTF', 'WQ'): 1.7763568394002536e-15, ('QF', 'END'): 4.163336342344337e-17, ('RB', 'QO'): 2.938735877055719e-39, ('WQ', 'CL'): 8.271806125530277e-25, ('QF', 'CL'): 1.3877787807814457e-17, ('INTF', 'QF'): 1.7763568394002536e-15, ('WQ', 'UT'): 8.271806125530277e-25, ('UT', 'DEM'): 5.551115123125783e-17, ('QF', 'PRP'): 4.163336342344337e-17, ('UT', 'NST'): 5.551115123125783e-17}\n",
          "output_type": "stream"
        }
      ]
    },
    {
      "cell_type": "code",
      "source": [
        "text = \"నేను నీతో ఆడుతున్నాను\"\n",
        "text = text.split()\n",
        "\n",
        "def tagPos(text, i, n, value, posSeq, preTag, maxValue, maxPos):\n",
        "    if i == n:\n",
        "#         print(value[0], maxValue[0], posSeq)\n",
        "        if value[0] > maxValue[0]:\n",
        "#             print(\"changed\")\n",
        "            print(value[0], maxValue[0], posSeq)\n",
        "#             print(posSeq)\n",
        "            maxValue[0] = value[0]\n",
        "            maxPos[0] = posSeq\n",
        "        return\n",
        "\n",
        "\n",
        "    for tag in tags:\n",
        "\n",
        "        if (tag, text[i]) in emission_matrix:\n",
        "            e_m = emission_matrix[(tag, text[i])]\n",
        "        # how to consider un_known words\n",
        "        else:\n",
        "            e_m = -1\n",
        "\n",
        "        if (preTag, tag) in transition_matrix:\n",
        "            t_m = transition_matrix[(preTag, tag)]\n",
        "        else:\n",
        "            t_m = -1\n",
        "\n",
        "        posSeq.append(tag)\n",
        "        temp = value[0]\n",
        "        value[0] =  e_m * t_m * value[0]\n",
        "#         if (e_m == -1 or t_m == -1) and value == 1:\n",
        "#             value[0] = -1 * value[0]\n",
        "\n",
        "        tagPos(text, i + 1, n, value, posSeq, tag, maxValue, maxPos)\n",
        "        value[0] = temp\n",
        "        posSeq.pop()\n",
        "\n",
        "\n",
        "\n",
        "maxPos = [[\"k\"]]\n",
        "maxValue = [-1e9]\n",
        "preTag  = 'START'\n",
        "value = [1]\n",
        "\n",
        "tagPos(text, 0, len(text), value, [], preTag, maxValue, maxPos)\n",
        "\n",
        "print(maxPos)\n"
      ],
      "metadata": {
        "execution": {
          "iopub.status.busy": "2024-03-22T10:57:33.008341Z",
          "iopub.execute_input": "2024-03-22T10:57:33.008868Z",
          "iopub.status.idle": "2024-03-22T10:57:33.025141Z",
          "shell.execute_reply.started": "2024-03-22T10:57:33.00882Z",
          "shell.execute_reply": "2024-03-22T10:57:33.023405Z"
        },
        "trusted": true,
        "id": "XeKX5Qup1b3y",
        "outputId": "66fcd459-10b8-4505-f163-8e4a283b21df"
      },
      "execution_count": null,
      "outputs": [
        {
          "name": "stdout",
          "text": "-0.0 -1000000000.0 ['NN', 'NN', 'NN']\n[[]]\n",
          "output_type": "stream"
        }
      ]
    },
    {
      "cell_type": "code",
      "source": [
        "vocab = set(data['word'])\n",
        "# print(vocab)\n",
        "if \"నిన్ను\" in vocab:\n",
        "    print(\"yes\")\n",
        "else:\n",
        "    print(\"no\")"
      ],
      "metadata": {
        "execution": {
          "iopub.status.busy": "2024-03-22T10:57:44.590158Z",
          "iopub.execute_input": "2024-03-22T10:57:44.59079Z",
          "iopub.status.idle": "2024-03-22T10:57:44.600324Z",
          "shell.execute_reply.started": "2024-03-22T10:57:44.590745Z",
          "shell.execute_reply": "2024-03-22T10:57:44.598733Z"
        },
        "trusted": true,
        "id": "_agkWtxF1b3z",
        "outputId": "874a9f62-f68f-4b69-b5bf-ce5f44b24030"
      },
      "execution_count": null,
      "outputs": [
        {
          "name": "stdout",
          "text": "no\n",
          "output_type": "stream"
        }
      ]
    },
    {
      "cell_type": "markdown",
      "source": [
        "**VITERBI**"
      ],
      "metadata": {
        "id": "jNnc14kL1b3z"
      }
    },
    {
      "cell_type": "code",
      "source": [
        "dp = []\n",
        "for i in range(22):\n",
        "    temp = []\n",
        "    for j in range(len(text) + 1):\n",
        "        temp.append(-1)\n",
        "    dp.append(temp)\n",
        "pos = []\n",
        "\n",
        "#dp created with 22 * 3 tables\n",
        "\n",
        "for i in range(len(text) + 1):\n",
        "    for j in range(22):\n",
        "        tag = no_to_pos[j]\n",
        "\n",
        "        if i < len(text) and (tag, text[i]) in emission_matrix:\n",
        "            e_m = emission_matrix[(tag, text[i])]\n",
        "        else:\n",
        "            e_m = -1\n",
        "\n",
        "        if  i < len(text) and ('START', tag) in transition_matrix:\n",
        "            t_m = transition_matrix[(preTag, tag)]\n",
        "        else:\n",
        "            t_m = -1\n",
        "\n",
        "        if i == 0:\n",
        "            dp[j][i] = e_m * t_m\n",
        "        else:\n",
        "\n",
        "            maxValue = -1e9\n",
        "            for k in range(22):\n",
        "\n",
        "                if (no_to_pos[k], tag) in transition_matrix:\n",
        "                    t_g = transition_matrix[(no_to_pos[k], tag)]\n",
        "                else:\n",
        "                    t_g = -1\n",
        "\n",
        "                if dp[k][i - 1] * t_g > maxValue:\n",
        "                    maxValue = dp[k][i - 1]\n",
        "\n",
        "\n",
        "            if i == len(text):\n",
        "                break\n",
        "\n",
        "            dp[j][i] = e_m * maxValue\n",
        "\n",
        "\n",
        "pos = []\n",
        "for i in range(len(text)):\n",
        "    value = -1e9\n",
        "    tag = -1\n",
        "    for j in range(22):\n",
        "        if dp[j][i] > value:\n",
        "            value = dp[j][i]\n",
        "            tag = j\n",
        "    pos.append(no_to_pos[j])\n",
        "\n",
        "print(dp)\n",
        "print(pos)\n",
        ""
      ],
      "metadata": {
        "execution": {
          "iopub.status.busy": "2024-03-22T10:57:56.642462Z",
          "iopub.execute_input": "2024-03-22T10:57:56.642913Z",
          "iopub.status.idle": "2024-03-22T10:57:56.661942Z",
          "shell.execute_reply.started": "2024-03-22T10:57:56.642881Z",
          "shell.execute_reply": "2024-03-22T10:57:56.660396Z"
        },
        "trusted": true,
        "id": "IOkIFXts1b31",
        "outputId": "6eddd9bd-5629-4c53-94f6-c9d77dff9e7b"
      },
      "execution_count": null,
      "outputs": [
        {
          "name": "stdout",
          "text": "[[-4.064936359238081e-261, -1, -3.057371614216545e-297, -1], [-8.406091369059067e-286, -1, -3.057371614216545e-297, -1], [-5.720889335234188e-247, -1, -3.057371614216545e-297, -1], [-1.90109156629516e-211, -1, -3.057371614216545e-297, -1], [-3.131512315903125e-294, -1, -3.057371614216545e-297, -1], [1, -1, -3.057371614216545e-297, -1], [1, 3.057371614216545e-297, -3.057371614216545e-297, -1], [-4.0083367125518366e-292, -1, -3.057371614216545e-297, -1], [-7.466108948025751e-301, -1, -3.057371614216545e-297, -1], [-7.466108948025751e-301, -1, -3.057371614216545e-297, -1], [-6.263025378417145e-294, -1, -3.057371614216545e-297, -1], [-2.4464199189995978e-296, -1, -3.057371614216545e-297, -1], [0.0, -1, -3.057371614216545e-297, -1], [-2.3144937738879828e-299, -1, -3.057371614216545e-297, -1], [-4.892914499088676e-296, -1, -3.057371614216545e-297, -1], [1, -1, -3.057371614216545e-297, -1], [-2.2398326844077253e-300, -1, -3.057371614216545e-297, -1], [-2.3144937738879828e-299, -1, -3.057371614216545e-297, -1], [-1.0020841725383774e-292, -1, -3.057371614216545e-297, -1], [-3.057371614216545e-297, -1, -3.057371614216545e-297, -1], [1, 3.057371614216545e-297, -3.057371614216545e-297, -1], [1, 3.057371614216545e-297, -3.057371614216545e-297, -1]]\n['CL', 'CL', 'CL']\n",
          "output_type": "stream"
        }
      ]
    },
    {
      "cell_type": "code",
      "source": [
        "pip install sklearn-crfsuite"
      ],
      "metadata": {
        "execution": {
          "iopub.status.busy": "2024-03-22T10:48:30.240747Z",
          "iopub.execute_input": "2024-03-22T10:48:30.241758Z",
          "iopub.status.idle": "2024-03-22T10:48:47.884883Z",
          "shell.execute_reply.started": "2024-03-22T10:48:30.241698Z",
          "shell.execute_reply": "2024-03-22T10:48:47.883302Z"
        },
        "trusted": true,
        "id": "CZHlUoJf1b32",
        "outputId": "b9b1ee8f-4140-406e-9073-ab571535af10"
      },
      "execution_count": null,
      "outputs": [
        {
          "name": "stdout",
          "text": "Collecting sklearn-crfsuite\n  Downloading sklearn_crfsuite-0.3.6-py2.py3-none-any.whl.metadata (3.8 kB)\nCollecting python-crfsuite>=0.8.3 (from sklearn-crfsuite)\n  Downloading python_crfsuite-0.9.10-cp310-cp310-manylinux_2_17_x86_64.manylinux2014_x86_64.whl.metadata (4.2 kB)\nRequirement already satisfied: six in /opt/conda/lib/python3.10/site-packages (from sklearn-crfsuite) (1.16.0)\nRequirement already satisfied: tabulate in /opt/conda/lib/python3.10/site-packages (from sklearn-crfsuite) (0.9.0)\nRequirement already satisfied: tqdm>=2.0 in /opt/conda/lib/python3.10/site-packages (from sklearn-crfsuite) (4.66.1)\nDownloading sklearn_crfsuite-0.3.6-py2.py3-none-any.whl (12 kB)\nDownloading python_crfsuite-0.9.10-cp310-cp310-manylinux_2_17_x86_64.manylinux2014_x86_64.whl (1.1 MB)\n\u001b[2K   \u001b[90m━━━━━━━━━━━━━━━━━━━━━━━━━━━━━━━━━━━━━━━━\u001b[0m \u001b[32m1.1/1.1 MB\u001b[0m \u001b[31m15.0 MB/s\u001b[0m eta \u001b[36m0:00:00\u001b[0m00:01\u001b[0m00:01\u001b[0m\n\u001b[?25hInstalling collected packages: python-crfsuite, sklearn-crfsuite\nSuccessfully installed python-crfsuite-0.9.10 sklearn-crfsuite-0.3.6\nNote: you may need to restart the kernel to use updated packages.\n",
          "output_type": "stream"
        }
      ]
    },
    {
      "cell_type": "code",
      "source": [
        "import sklearn_crfsuite\n",
        "from sklearn_crfsuite import metrics"
      ],
      "metadata": {
        "execution": {
          "iopub.status.busy": "2024-03-22T10:48:47.886929Z",
          "iopub.execute_input": "2024-03-22T10:48:47.887307Z",
          "iopub.status.idle": "2024-03-22T10:48:49.370797Z",
          "shell.execute_reply.started": "2024-03-22T10:48:47.887273Z",
          "shell.execute_reply": "2024-03-22T10:48:49.369377Z"
        },
        "trusted": true,
        "id": "YyeF6YU01b32"
      },
      "execution_count": null,
      "outputs": []
    },
    {
      "cell_type": "code",
      "source": [
        "def get_features(sentence, i):\n",
        "    word = sentence[i]\n",
        "\n",
        "    if len(word) >= 2:\n",
        "        prefix_1 = word[:2]\n",
        "        suffix_1 = word[-2:]\n",
        "    else:\n",
        "        prefix_1 = \"\"\n",
        "        suffix_1 = \"\"\n",
        "\n",
        "    if len(word) >= 4:\n",
        "        prefix_2 = word[:4]\n",
        "        suffix_2 = word[-4:]\n",
        "    else:\n",
        "        prefix_2 = \"\"\n",
        "        suffix_2 = \"\"\n",
        "\n",
        "    features = {\n",
        "        'word': word,\n",
        "        'is_first' : i == 0,\n",
        "        'is_last' : i == len(sentence) - 1,\n",
        "\n",
        "        'prefix_1' : prefix_1,\n",
        "        'prefix_2' : prefix_2,\n",
        "\n",
        "        'suffix_1' : suffix_1,\n",
        "        'suffix_2' : suffix_2,\n",
        "\n",
        "        'pre_word' : '' if i == 0 else sentence[i - 1],\n",
        "        'next_word' : '' if i == len(sentence) - 1 else sentence[i + 1]\n",
        "    }\n",
        "\n",
        "    return features"
      ],
      "metadata": {
        "execution": {
          "iopub.status.busy": "2024-03-22T10:58:01.691928Z",
          "iopub.execute_input": "2024-03-22T10:58:01.692347Z",
          "iopub.status.idle": "2024-03-22T10:58:01.703073Z",
          "shell.execute_reply.started": "2024-03-22T10:58:01.692296Z",
          "shell.execute_reply": "2024-03-22T10:58:01.701416Z"
        },
        "trusted": true,
        "id": "F1_cvatm1b33"
      },
      "execution_count": null,
      "outputs": []
    },
    {
      "cell_type": "code",
      "source": [
        "X = []\n",
        "Y = []\n",
        "\n",
        "for j in range(len(telugu_sen)):\n",
        "    x_sen = []\n",
        "    y_sen = []\n",
        "\n",
        "    cut_sen = telugu_sen[i][1:len(telugu_sen[i]) - 1]\n",
        "    cut_pos = telugu_pos[i][1:len(telugu_pos[i]) - 1]\n",
        "    for i in range(len(cut_sen)):\n",
        "        x_sen.append(get_features(cut_sen, i))\n",
        "        y_sen.append(cut_pos[i])\n",
        "\n",
        "    X.append(x_sen)\n",
        "    Y.append(y_sen)"
      ],
      "metadata": {
        "execution": {
          "iopub.status.busy": "2024-03-22T10:58:22.617112Z",
          "iopub.execute_input": "2024-03-22T10:58:22.617556Z",
          "iopub.status.idle": "2024-03-22T10:58:22.654642Z",
          "shell.execute_reply.started": "2024-03-22T10:58:22.617524Z",
          "shell.execute_reply": "2024-03-22T10:58:22.653528Z"
        },
        "trusted": true,
        "id": "3O4PHvtk1b33"
      },
      "execution_count": null,
      "outputs": []
    },
    {
      "cell_type": "code",
      "source": [
        "print(X[0])\n",
        "print(Y[0])"
      ],
      "metadata": {
        "execution": {
          "iopub.status.busy": "2024-03-22T10:58:27.380125Z",
          "iopub.execute_input": "2024-03-22T10:58:27.380612Z",
          "iopub.status.idle": "2024-03-22T10:58:27.38815Z",
          "shell.execute_reply.started": "2024-03-22T10:58:27.380576Z",
          "shell.execute_reply": "2024-03-22T10:58:27.386559Z"
        },
        "trusted": true,
        "id": "TL7oss8G1b33",
        "outputId": "eda2ad57-dd35-4bb0-f371-b8c06e0ce6c9"
      },
      "execution_count": null,
      "outputs": [
        {
          "name": "stdout",
          "text": "[{'word': 'హిందూ', 'is_first': True, 'is_last': False, 'prefix_1': 'హి', 'prefix_2': 'హింద', 'suffix_1': 'దూ', 'suffix_2': 'ిందూ', 'pre_word': '', 'next_word': 'సంఘం'}, {'word': 'సంఘం', 'is_first': False, 'is_last': False, 'prefix_1': 'సం', 'prefix_2': 'సంఘం', 'suffix_1': 'ఘం', 'suffix_2': 'సంఘం', 'pre_word': 'హిందూ', 'next_word': 'ఒక'}, {'word': 'ఒక', 'is_first': False, 'is_last': False, 'prefix_1': 'ఒక', 'prefix_2': '', 'suffix_1': 'ఒక', 'suffix_2': '', 'pre_word': 'సంఘం', 'next_word': 'కులాల'}, {'word': 'కులాల', 'is_first': False, 'is_last': False, 'prefix_1': 'కు', 'prefix_2': 'కులా', 'suffix_1': 'ాల', 'suffix_2': 'ులాల', 'pre_word': 'ఒక', 'next_word': 'కూటమి'}, {'word': 'కూటమి', 'is_first': False, 'is_last': True, 'prefix_1': 'కూ', 'prefix_2': 'కూటమ', 'suffix_1': 'మి', 'suffix_2': 'ూటమి', 'pre_word': 'కులాల', 'next_word': ''}]\n['NNP', 'NN', 'JJ', 'NN', 'NN']\n",
          "output_type": "stream"
        }
      ]
    },
    {
      "cell_type": "code",
      "source": [
        "# crf = sklearn_crfsuite.CRF(\n",
        "#     algorithm='lbfgs',\n",
        "#     c1=0.1,\n",
        "#     c2=0.1,\n",
        "#     max_iterations=100,\n",
        "#     all_possible_transitions=True\n",
        "# )\n",
        "# crf.fit(X, Y)\n",
        "\n",
        "# GETTING SOME ERROR"
      ],
      "metadata": {
        "trusted": true,
        "id": "RgHeCoP41b33"
      },
      "execution_count": null,
      "outputs": []
    },
    {
      "cell_type": "code",
      "source": [
        "import pycrfsuite\n",
        "\n",
        "\n",
        "trainer = pycrfsuite.Trainer(verbose=False)\n",
        "for x, y in zip(X, Y):\n",
        "    trainer.append(x, y)\n",
        "\n",
        "trainer.set_params({\n",
        "    'c1': 1.0,\n",
        "    'c2': 1e-3,\n",
        "    'max_iterations': 50,\n",
        "    'feature.possible_transitions': True\n",
        "})\n",
        "trainer.train('teluguPos.crfsuite')"
      ],
      "metadata": {
        "execution": {
          "iopub.status.busy": "2024-03-22T10:59:16.97112Z",
          "iopub.execute_input": "2024-03-22T10:59:16.971615Z",
          "iopub.status.idle": "2024-03-22T10:59:17.387175Z",
          "shell.execute_reply.started": "2024-03-22T10:59:16.971583Z",
          "shell.execute_reply": "2024-03-22T10:59:17.385852Z"
        },
        "trusted": true,
        "id": "IzJFIjxH1b34"
      },
      "execution_count": null,
      "outputs": []
    },
    {
      "cell_type": "code",
      "source": [
        "tagger = pycrfsuite.Tagger()\n",
        "tagger.open('teluguPos.crfsuite')\n",
        "\n",
        "features = [get_features(text, i) for i in range(len(text))]\n",
        "tags = tagger.tag(features)\n",
        "print(list(zip(text, tags)))"
      ],
      "metadata": {
        "execution": {
          "iopub.status.busy": "2024-03-22T10:59:33.463966Z",
          "iopub.execute_input": "2024-03-22T10:59:33.464487Z",
          "iopub.status.idle": "2024-03-22T10:59:33.474254Z",
          "shell.execute_reply.started": "2024-03-22T10:59:33.464453Z",
          "shell.execute_reply": "2024-03-22T10:59:33.472434Z"
        },
        "trusted": true,
        "id": "4_LZRlas1b34",
        "outputId": "ff76bc23-fb24-442b-9f93-573181c10cf1"
      },
      "execution_count": null,
      "outputs": [
        {
          "name": "stdout",
          "text": "[('నేను', 'NN'), ('నీతో', 'NN'), ('ఆడుతున్నాను', 'VM')]\n",
          "output_type": "stream"
        }
      ]
    },
    {
      "cell_type": "code",
      "source": [
        "print(features)\n",
        "print(len(features))"
      ],
      "metadata": {
        "execution": {
          "iopub.status.busy": "2024-03-22T10:59:37.863974Z",
          "iopub.execute_input": "2024-03-22T10:59:37.864462Z",
          "iopub.status.idle": "2024-03-22T10:59:37.870759Z",
          "shell.execute_reply.started": "2024-03-22T10:59:37.864428Z",
          "shell.execute_reply": "2024-03-22T10:59:37.869445Z"
        },
        "trusted": true,
        "id": "WPvPO5091b34",
        "outputId": "8cead71b-b6ce-46c9-fae1-a7aacb6fe367"
      },
      "execution_count": null,
      "outputs": [
        {
          "name": "stdout",
          "text": "[{'word': 'నేను', 'is_first': True, 'is_last': False, 'prefix_1': 'నే', 'prefix_2': 'నేను', 'suffix_1': 'ను', 'suffix_2': 'నేను', 'pre_word': '', 'next_word': 'నీతో'}, {'word': 'నీతో', 'is_first': False, 'is_last': False, 'prefix_1': 'నీ', 'prefix_2': 'నీతో', 'suffix_1': 'తో', 'suffix_2': 'నీతో', 'pre_word': 'నేను', 'next_word': 'ఆడుతున్నాను'}, {'word': 'ఆడుతున్నాను', 'is_first': False, 'is_last': True, 'prefix_1': 'ఆడ', 'prefix_2': 'ఆడుత', 'suffix_1': 'ను', 'suffix_2': 'నాను', 'pre_word': 'నీతో', 'next_word': ''}]\n3\n",
          "output_type": "stream"
        }
      ]
    },
    {
      "cell_type": "code",
      "source": [
        "tagger.set(features)\n",
        "prop = tagger.probability(['VM','PSP','NNP'])\n",
        "print(prop)"
      ],
      "metadata": {
        "execution": {
          "iopub.status.busy": "2024-03-22T10:59:43.588153Z",
          "iopub.execute_input": "2024-03-22T10:59:43.588721Z",
          "iopub.status.idle": "2024-03-22T10:59:43.596769Z",
          "shell.execute_reply.started": "2024-03-22T10:59:43.588677Z",
          "shell.execute_reply": "2024-03-22T10:59:43.595521Z"
        },
        "trusted": true,
        "id": "GZGhPwBm1b34",
        "outputId": "01974a15-b796-4535-fd73-82515609a329"
      },
      "execution_count": null,
      "outputs": [
        {
          "name": "stdout",
          "text": "0.006910925672248036\n",
          "output_type": "stream"
        }
      ]
    },
    {
      "cell_type": "code",
      "source": [
        "! pip install gradio"
      ],
      "metadata": {
        "scrolled": true,
        "execution": {
          "iopub.status.busy": "2024-03-22T10:48:51.999901Z",
          "iopub.status.idle": "2024-03-22T10:48:52.000623Z",
          "shell.execute_reply.started": "2024-03-22T10:48:52.000281Z",
          "shell.execute_reply": "2024-03-22T10:48:52.000309Z"
        },
        "trusted": true,
        "id": "XqFyho7_1b34"
      },
      "execution_count": null,
      "outputs": []
    },
    {
      "cell_type": "code",
      "source": [
        "import gradio as gr\n",
        "\n",
        "def tagger(sentence):\n",
        "    text = sentence.split()\n",
        "    features = [get_features(text, i) for i in range(len(text))]\n",
        "    tags = tagger.tag(features)\n",
        "    return 'hello'\n",
        "\n",
        "demo = gr.Interface(fn=tagger, inputs=\"text\", outputs=\"text\")\n",
        "demo.launch()"
      ],
      "metadata": {
        "execution": {
          "iopub.status.busy": "2024-03-22T10:48:52.00268Z",
          "iopub.status.idle": "2024-03-22T10:48:52.003353Z",
          "shell.execute_reply.started": "2024-03-22T10:48:52.003043Z",
          "shell.execute_reply": "2024-03-22T10:48:52.00307Z"
        },
        "trusted": true,
        "id": "YeRB78no1b35"
      },
      "execution_count": null,
      "outputs": []
    }
  ]
}